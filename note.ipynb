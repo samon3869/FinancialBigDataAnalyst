{
 "cells": [
  {
   "cell_type": "code",
   "execution_count": 4,
   "id": "d2ce775c",
   "metadata": {},
   "outputs": [
    {
     "name": "stdout",
     "output_type": "stream",
     "text": [
      "PY: /home/bbang2/.pyenv/versions/fda_env/bin/python\n",
      "prefix: /home/bbang2/.pyenv/versions/fda_env\n",
      "base_prefix: /home/bbang2/.pyenv/versions/3.11.9\n"
     ]
    }
   ],
   "source": [
    "import sys\n",
    "print(\"PY:\", sys.executable)\n",
    "print(\"prefix:\", sys.prefix)        # 가상환경 루트\n",
    "print(\"base_prefix:\", sys.base_prefix)  # 베이스 파이썬 루트(다르면 venv 활성)\n"
   ]
  }
 ],
 "metadata": {
  "kernelspec": {
   "display_name": "Python 3.11.9 (fda_env)",
   "language": "python",
   "name": "fda_env"
  },
  "language_info": {
   "codemirror_mode": {
    "name": "ipython",
    "version": 3
   },
   "file_extension": ".py",
   "mimetype": "text/x-python",
   "name": "python",
   "nbconvert_exporter": "python",
   "pygments_lexer": "ipython3",
   "version": "3.11.9"
  }
 },
 "nbformat": 4,
 "nbformat_minor": 5
}
